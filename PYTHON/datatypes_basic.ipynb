{
 "cells": [
  {
   "cell_type": "code",
   "execution_count": null,
   "metadata": {},
   "outputs": [],
   "source": [
    "#Datatypes - Basic\n",
    "\n",
    "name=\"Krishna\" #string\n",
    "print(name)\n",
    "\n",
    "age=21\n",
    "print(age) #Integer\n",
    "\n",
    "balance=50.0\n",
    "print(balance) #float\n",
    "\n",
    "has_credit_card = False\n",
    "print(has_credit_card) #boolean"
   ]
  }
 ],
 "metadata": {
  "language_info": {
   "name": "python"
  }
 },
 "nbformat": 4,
 "nbformat_minor": 2
}
